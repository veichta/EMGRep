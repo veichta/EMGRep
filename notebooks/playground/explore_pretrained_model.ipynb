{
 "cells": [
  {
   "cell_type": "code",
   "execution_count": null,
   "metadata": {},
   "outputs": [],
   "source": [
    "import sys\n",
    "\n",
    "sys.path.append(\"../..\")"
   ]
  },
  {
   "cell_type": "code",
   "execution_count": null,
   "metadata": {},
   "outputs": [],
   "source": [
    "%load_ext autoreload"
   ]
  },
  {
   "cell_type": "code",
   "execution_count": null,
   "metadata": {},
   "outputs": [],
   "source": [
    "import logging\n",
    "from argparse import Namespace\n",
    "\n",
    "import torch\n",
    "import matplotlib.pyplot as plt\n",
    "\n",
    "from emgrep.datasets.EMGRepDataloader import get_dataloader\n",
    "from emgrep.datasets.RepresentationsDataset import RepresentationDataset\n",
    "from emgrep.models.cpc_model import CPCModel, CPCEncoder, CPCAR\n",
    "\n",
    "from emgrep.train_classifier import train_classifier"
   ]
  },
  {
   "cell_type": "code",
   "execution_count": null,
   "metadata": {},
   "outputs": [],
   "source": [
    "DEVICE = \"cpu\"\n",
    "\n",
    "SUBJECTS = 10\n",
    "DAYS = 5\n",
    "TIMES = 2\n",
    "\n",
    "POS_MODE = \"none\"\n",
    "\n",
    "ENC_DIM = 256\n",
    "AR_DIM = 256\n",
    "AR_LAYERS = 2\n",
    "\n",
    "args = {\n",
    "    \"data\": \"../../data/01_raw\",\n",
    "    \"device\": DEVICE,\n",
    "    \"output_dir\": \"logs\",\n",
    "    \"n_subjects\": SUBJECTS,\n",
    "    \"n_days\": DAYS,\n",
    "    \"n_times\": TIMES,\n",
    "    \"positive_mode\": POS_MODE,\n",
    "    \"val_idx\": 1,\n",
    "    \"test_idx\": 2,\n",
    "    \"seq_len\": 3000,\n",
    "    \"seq_stride\": 3000,\n",
    "    \"block_len\": 300,\n",
    "    \"block_stride\": 300,\n",
    "    \"batch_size_cpc\": 256,\n",
    "    \"num_workers\": 0,\n",
    "    \"encoder_dim\": ENC_DIM,\n",
    "    \"ar_dim\": AR_DIM,\n",
    "    \"ar_layers\": AR_LAYERS,\n",
    "    \"cpc_k\": 5,\n",
    "    \"epochs_cpc\": 1,\n",
    "    \"lr_cpc\": 0.0002,\n",
    "    \"weight_decay_cpc\": 0.0,\n",
    "    \"epochs_classifier\": 50,\n",
    "    \"lr_classifier\": 0.1,\n",
    "    \"batch_size_classifier\": 256,\n",
    "    \"split_mode\": \"day\",\n",
    "    \"debug\": True,\n",
    "    \"log_dir\": \"../../logs/none_1_2/2023-05-03_13-15-11\",\n",
    "    \"log_to_file\": False,\n",
    "    \"wandb\": False,\n",
    "    \"normalize\": False,\n",
    "    \"preprocessing\": \"none\",\n",
    "}\n",
    "\n",
    "logging.basicConfig(\n",
    "    level=logging.DEBUG,\n",
    "    format=\"%(asctime)s %(levelname)s %(message)s\",\n",
    ")\n",
    "logging.getLogger(\"matplotlib\").setLevel(logging.WARNING)\n",
    "\n",
    "args = Namespace(**args)"
   ]
  },
  {
   "cell_type": "code",
   "execution_count": null,
   "metadata": {},
   "outputs": [],
   "source": [
    "checkpoint = \"../../logs/logs/none_1_2/2023-05-02_23-05-45/checkpoints/best_model.pt\"\n",
    "\n",
    "enc = CPCEncoder(16, args.encoder_dim)\n",
    "ar = CPCAR(args.encoder_dim, args.ar_dim, args.ar_layers)\n",
    "\n",
    "model = CPCModel(enc, ar)\n",
    "\n",
    "model.load_state_dict(torch.load(checkpoint, map_location=args.device))"
   ]
  },
  {
   "cell_type": "code",
   "execution_count": null,
   "metadata": {},
   "outputs": [],
   "source": [
    "rep_dataloader = get_dataloader(args, extract_rep_mode=True)\n",
    "representations = {\n",
    "    \"train\": RepresentationDataset(model=model, dataloader=rep_dataloader[\"train\"], args=args),\n",
    "    \"val\": RepresentationDataset(model=model, dataloader=rep_dataloader[\"val\"], args=args),\n",
    "    \"test\": RepresentationDataset(model=model, dataloader=rep_dataloader[\"test\"], args=args),\n",
    "}\n",
    "del rep_dataloader"
   ]
  },
  {
   "cell_type": "code",
   "execution_count": null,
   "metadata": {},
   "outputs": [],
   "source": [
    "metrics = train_classifier(representations, pred_block=-1, args=args)\n",
    "\n",
    "logging.info(f\"Train accuracy: {metrics['train']['accuracy']:.3f}\")\n",
    "logging.info(f\"Val accuracy:   {metrics['val']['accuracy']:.3f}\")\n",
    "logging.info(f\"Test accuracy:  {metrics['test']['accuracy']:.3f}\")"
   ]
  },
  {
   "cell_type": "code",
   "execution_count": null,
   "metadata": {},
   "outputs": [],
   "source": [
    "metrics = {\n",
    "    \"train\": [],\n",
    "    \"val\": [],\n",
    "    \"test\": []\n",
    "}\n",
    "\n",
    "for pred_block in range(1, 11):\n",
    "    m = train_classifier(representations, pred_block=-pred_block, args=args)\n",
    "\n",
    "    metrics[\"train\"].append(m[\"train\"][\"accuracy\"])\n",
    "    metrics[\"val\"].append(m[\"val\"][\"accuracy\"])\n",
    "    metrics[\"test\"].append(m[\"test\"][\"accuracy\"])"
   ]
  },
  {
   "cell_type": "code",
   "execution_count": null,
   "metadata": {},
   "outputs": [],
   "source": [
    "plt.plot(metrics[\"train\"], label=\"train\")\n",
    "plt.plot(metrics[\"val\"], label=\"val\")\n",
    "plt.plot(metrics[\"test\"], label=\"test\")\n",
    "\n",
    "plt.legend()\n",
    "plt.show()"
   ]
  },
  {
   "cell_type": "code",
   "execution_count": null,
   "metadata": {},
   "outputs": [],
   "source": []
  }
 ],
 "metadata": {
  "kernelspec": {
   "display_name": "emg",
   "language": "python",
   "name": "python3"
  },
  "language_info": {
   "codemirror_mode": {
    "name": "ipython",
    "version": 3
   },
   "file_extension": ".py",
   "mimetype": "text/x-python",
   "name": "python",
   "nbconvert_exporter": "python",
   "pygments_lexer": "ipython3",
   "version": "3.9.16"
  },
  "orig_nbformat": 4
 },
 "nbformat": 4,
 "nbformat_minor": 2
}
