{
 "cells": [
  {
   "cell_type": "code",
   "execution_count": 80,
   "metadata": {},
   "outputs": [],
   "source": [
    "import sys\n",
    "sys.path.append('../..')"
   ]
  },
  {
   "cell_type": "code",
   "execution_count": 81,
   "metadata": {},
   "outputs": [],
   "source": [
    "import logging\n",
    "import numpy as np\n",
    "\n",
    "import torch\n",
    "from emgrep.datasets.EMGRepDataloader import EMGRepDataloader"
   ]
  },
  {
   "cell_type": "code",
   "execution_count": 82,
   "metadata": {},
   "outputs": [],
   "source": [
    "logging.basicConfig(level=logging.INFO)"
   ]
  },
  {
   "cell_type": "code",
   "execution_count": 83,
   "metadata": {},
   "outputs": [
    {
     "name": "stderr",
     "output_type": "stream",
     "text": [
      "INFO:root:Loading data...\n",
      "100%|██████████| 8/8 [00:09<00:00,  1.24s/it]\n"
     ]
    }
   ],
   "source": [
    "data_selection = [(subject, day, time) for subject in [1, 2] for day in [1, 2] for time in [1, 2]]\n",
    "\n",
    "emgrep_ds = EMGRepDataloader(\n",
    "    data_path='../../data/01_raw/',\n",
    "    data_selection=data_selection,\n",
    "    positive_mode='subject',\n",
    ")"
   ]
  },
  {
   "cell_type": "code",
   "execution_count": 84,
   "metadata": {},
   "outputs": [],
   "source": [
    "emgrep_dl = emgrep_ds.get_dataloader()"
   ]
  },
  {
   "cell_type": "code",
   "execution_count": 85,
   "metadata": {},
   "outputs": [
    {
     "data": {
      "text/plain": [
       "3400"
      ]
     },
     "execution_count": 85,
     "metadata": {},
     "output_type": "execute_result"
    }
   ],
   "source": [
    "len(emgrep_dl)"
   ]
  },
  {
   "cell_type": "code",
   "execution_count": 86,
   "metadata": {},
   "outputs": [],
   "source": [
    "batch = next(iter(emgrep_dl))"
   ]
  },
  {
   "cell_type": "code",
   "execution_count": 87,
   "metadata": {},
   "outputs": [],
   "source": [
    "x, y = batch[0], batch[1]"
   ]
  },
  {
   "cell_type": "code",
   "execution_count": 88,
   "metadata": {},
   "outputs": [
    {
     "data": {
      "text/plain": [
       "(torch.Size([1, 2, 10, 16, 300]), torch.Size([1, 2, 10, 300, 1]))"
      ]
     },
     "execution_count": 88,
     "metadata": {},
     "output_type": "execute_result"
    }
   ],
   "source": [
    "x.shape, y.shape"
   ]
  },
  {
   "cell_type": "code",
   "execution_count": 89,
   "metadata": {},
   "outputs": [],
   "source": [
    "# simple cnn encoder network which takes in a sequence of blocks and outputs a single vector \n",
    "# containing the encoded representation of the sequence\n",
    "\n",
    "# all blocks of size N x 512 x F or smaller should be mapped to a single vector of size N x 1 x H\n",
    "# where H is the hidden size of the encoder network\n",
    "\n",
    "from torch import nn\n",
    "\n",
    "class EncoderNetwork(nn.Module):\n",
    "    def __init__(self, in_channels, out_channels):\n",
    "        super().__init__()\n",
    "\n",
    "        # Compute the highest power of 2 less than or equal to out_channels\n",
    "        max_power = int(np.log(out_channels) / np.log(2))\n",
    "        result = [in_channels] + [2**f for f in range(5, max_power + 1)]\n",
    "\n",
    "        self.convs = nn.ModuleList([\n",
    "            block\n",
    "            for in_channels, out_channels in zip(result[:-1], result[1:])\n",
    "            for block in [self.block(in_channels, in_channels), self.block(in_channels, out_channels)]\n",
    "        ])\n",
    "\n",
    "        self.output_conv = nn.AdaptiveAvgPool1d(1)\n",
    "\n",
    "    def block(self, in_channels, out_channels):\n",
    "        return nn.Sequential(\n",
    "            nn.Conv1d(in_channels, out_channels, kernel_size=3, padding=1),\n",
    "            nn.ReLU(),\n",
    "            nn.BatchNorm1d(out_channels),\n",
    "            nn.MaxPool1d(kernel_size=2, padding=1),\n",
    "         )\n",
    "\n",
    "    def forward(self, x):\n",
    "\n",
    "        BS, K, NB, C, L = x.shape\n",
    "        # x is of shape N x 2 x num_blocks x F x block_len\n",
    "        # reshape to N * 2 * num_blocks x F x block_len\n",
    "        logging.info(f\"Input:   {x.shape}\")\n",
    "        x = x.reshape(-1, C, L)\n",
    "        logging.info(f\"Reshape: {x.shape}\")\n",
    "\n",
    "        for i, conv in enumerate(self.convs):\n",
    "            x = conv(x)\n",
    "            logging.info(f\"Conv {i}:  {x.shape}\")\n",
    "\n",
    "        x = self.output_conv(x)\n",
    "        logging.info(f\"Out:     {x.shape}\")\n",
    "\n",
    "        # reshape to have shape N x 2 x num_blocks x H\n",
    "        x = x.reshape(BS, K, NB, -1)\n",
    "        logging.info(f\"Reshape: {x.shape}\")\n",
    "\n",
    "\n",
    "        return x"
   ]
  },
  {
   "cell_type": "code",
   "execution_count": 90,
   "metadata": {},
   "outputs": [
    {
     "name": "stderr",
     "output_type": "stream",
     "text": [
      "INFO:root:Number of trainable parameters: 0.198 M\n"
     ]
    }
   ],
   "source": [
    "in_channels = 16\n",
    "hidden_dim = 258\n",
    "\n",
    "encoder = EncoderNetwork(in_channels, hidden_dim)\n",
    "\n",
    "n_params = sum(p.numel() for p in encoder.parameters() if p.requires_grad)\n",
    "logging.info(f\"Number of trainable parameters: {n_params / 1e6} M\")"
   ]
  },
  {
   "cell_type": "code",
   "execution_count": 91,
   "metadata": {},
   "outputs": [
    {
     "name": "stderr",
     "output_type": "stream",
     "text": [
      "INFO:root:Input:   torch.Size([3, 2, 10, 16, 512])\n",
      "INFO:root:Reshape: torch.Size([60, 16, 512])\n",
      "INFO:root:Conv 0:  torch.Size([60, 16, 257])\n",
      "INFO:root:Conv 1:  torch.Size([60, 32, 129])\n",
      "INFO:root:Conv 2:  torch.Size([60, 32, 65])\n",
      "INFO:root:Conv 3:  torch.Size([60, 64, 33])\n",
      "INFO:root:Conv 4:  torch.Size([60, 64, 17])\n",
      "INFO:root:Conv 5:  torch.Size([60, 128, 9])\n",
      "INFO:root:Conv 6:  torch.Size([60, 128, 5])\n",
      "INFO:root:Conv 7:  torch.Size([60, 256, 3])\n",
      "INFO:root:Out:     torch.Size([60, 256, 1])\n",
      "INFO:root:Reshape: torch.Size([3, 2, 10, 256])\n"
     ]
    }
   ],
   "source": [
    "random_input = torch.randn(3, 2, 10, in_channels, 512)\n",
    "features = encoder(random_input)"
   ]
  },
  {
   "cell_type": "code",
   "execution_count": 92,
   "metadata": {},
   "outputs": [
    {
     "name": "stderr",
     "output_type": "stream",
     "text": [
      "INFO:root:Input:   torch.Size([3, 2, 10, 16, 300])\n",
      "INFO:root:Reshape: torch.Size([60, 16, 300])\n",
      "INFO:root:Conv 0:  torch.Size([60, 16, 151])\n",
      "INFO:root:Conv 1:  torch.Size([60, 32, 76])\n",
      "INFO:root:Conv 2:  torch.Size([60, 32, 39])\n",
      "INFO:root:Conv 3:  torch.Size([60, 64, 20])\n",
      "INFO:root:Conv 4:  torch.Size([60, 64, 11])\n",
      "INFO:root:Conv 5:  torch.Size([60, 128, 6])\n",
      "INFO:root:Conv 6:  torch.Size([60, 128, 4])\n",
      "INFO:root:Conv 7:  torch.Size([60, 256, 3])\n",
      "INFO:root:Out:     torch.Size([60, 256, 1])\n",
      "INFO:root:Reshape: torch.Size([3, 2, 10, 256])\n"
     ]
    }
   ],
   "source": [
    "random_input = torch.randn(3, 2, 10, in_channels, 300)\n",
    "features = encoder(random_input)"
   ]
  },
  {
   "cell_type": "code",
   "execution_count": 93,
   "metadata": {},
   "outputs": [],
   "source": [
    "# Refactored version of the encoder\n",
    "import math\n",
    "\n",
    "import torch.nn as nn\n",
    "\n",
    "class EncoderNetwork(nn.Module):\n",
    "    def __init__(self, in_channels: int, hidden_dim: int):\n",
    "        \"\"\"Encoder network for encoding a sequence of blocks into a single vector.\n",
    "\n",
    "        Args:\n",
    "            in_channels (int): Number of input channels. \n",
    "            hidden_dim (int): Feature dimension of the output vector for each block. Will be \n",
    "            rounded to the next power of 2.\n",
    "        \"\"\"        \n",
    "        super().__init__()\n",
    "        \n",
    "        max_power = int(math.log(hidden_dim, 2))\n",
    "        result = [in_channels] + [2**f for f in range(5, max_power + 1)]\n",
    "        \n",
    "        self.convs = nn.Sequential(*[\n",
    "            nn.Sequential(\n",
    "                nn.Conv1d(in_channels, in_channels, kernel_size=3, padding=1),\n",
    "                nn.ReLU(),\n",
    "                nn.BatchNorm1d(in_channels),\n",
    "                nn.MaxPool1d(kernel_size=2, padding=1),\n",
    "                nn.Conv1d(in_channels, out_channels, kernel_size=3, padding=1),\n",
    "                nn.ReLU(),\n",
    "                nn.BatchNorm1d(out_channels),\n",
    "                nn.MaxPool1d(kernel_size=2, padding=1)\n",
    "            )\n",
    "            for in_channels, out_channels in zip(result[:-1], result[1:])\n",
    "        ])\n",
    "        \n",
    "        # output_conv is used to map the time dimension to a single value\n",
    "        # -> each block will be mapped to a feature with dimension hidden_dim\n",
    "        self.output_conv = nn.AdaptiveAvgPool1d(1)\n",
    "\n",
    "    def forward(self, x):\n",
    "        N, K, num_blocks, F, block_len = x.shape\n",
    "        x = x.view(N * K * num_blocks, F, block_len)\n",
    "        \n",
    "        x = self.convs(x)\n",
    "        x = self.output_conv(x)\n",
    "        \n",
    "        x = x.view(N, K, num_blocks, -1)\n",
    "        \n",
    "        return x\n"
   ]
  },
  {
   "cell_type": "code",
   "execution_count": 97,
   "metadata": {},
   "outputs": [
    {
     "name": "stdout",
     "output_type": "stream",
     "text": [
      "Number of trainable parameters: 0.198 M\n"
     ]
    }
   ],
   "source": [
    "encoder = EncoderNetwork(in_channels, hidden_dim)\n",
    "\n",
    "n_params = sum(p.numel() for p in encoder.parameters() if p.requires_grad)\n",
    "\n",
    "print(f\"Number of trainable parameters: {n_params / 1e6} M\")"
   ]
  },
  {
   "cell_type": "code",
   "execution_count": 98,
   "metadata": {},
   "outputs": [
    {
     "data": {
      "text/plain": [
       "torch.Size([3, 2, 10, 256])"
      ]
     },
     "execution_count": 98,
     "metadata": {},
     "output_type": "execute_result"
    }
   ],
   "source": [
    "out = encoder(random_input)\n",
    "\n",
    "out.shape"
   ]
  },
  {
   "cell_type": "code",
   "execution_count": 99,
   "metadata": {},
   "outputs": [
    {
     "name": "stdout",
     "output_type": "stream",
     "text": [
      "----------------------------------------------------------------\n",
      "        Layer (type)               Output Shape         Param #\n",
      "================================================================\n",
      "            Conv1d-1              [-1, 16, 512]             784\n",
      "              ReLU-2              [-1, 16, 512]               0\n",
      "       BatchNorm1d-3              [-1, 16, 512]              32\n",
      "         MaxPool1d-4              [-1, 16, 257]               0\n",
      "            Conv1d-5              [-1, 32, 257]           1,568\n",
      "              ReLU-6              [-1, 32, 257]               0\n",
      "       BatchNorm1d-7              [-1, 32, 257]              64\n",
      "         MaxPool1d-8              [-1, 32, 129]               0\n",
      "            Conv1d-9              [-1, 32, 129]           3,104\n",
      "             ReLU-10              [-1, 32, 129]               0\n",
      "      BatchNorm1d-11              [-1, 32, 129]              64\n",
      "        MaxPool1d-12               [-1, 32, 65]               0\n",
      "           Conv1d-13               [-1, 64, 65]           6,208\n",
      "             ReLU-14               [-1, 64, 65]               0\n",
      "      BatchNorm1d-15               [-1, 64, 65]             128\n",
      "        MaxPool1d-16               [-1, 64, 33]               0\n",
      "           Conv1d-17               [-1, 64, 33]          12,352\n",
      "             ReLU-18               [-1, 64, 33]               0\n",
      "      BatchNorm1d-19               [-1, 64, 33]             128\n",
      "        MaxPool1d-20               [-1, 64, 17]               0\n",
      "           Conv1d-21              [-1, 128, 17]          24,704\n",
      "             ReLU-22              [-1, 128, 17]               0\n",
      "      BatchNorm1d-23              [-1, 128, 17]             256\n",
      "        MaxPool1d-24               [-1, 128, 9]               0\n",
      "           Conv1d-25               [-1, 128, 9]          49,280\n",
      "             ReLU-26               [-1, 128, 9]               0\n",
      "      BatchNorm1d-27               [-1, 128, 9]             256\n",
      "        MaxPool1d-28               [-1, 128, 5]               0\n",
      "           Conv1d-29               [-1, 256, 5]          98,560\n",
      "             ReLU-30               [-1, 256, 5]               0\n",
      "      BatchNorm1d-31               [-1, 256, 5]             512\n",
      "        MaxPool1d-32               [-1, 256, 3]               0\n",
      "AdaptiveAvgPool1d-33               [-1, 256, 1]               0\n",
      "================================================================\n",
      "Total params: 198,000\n",
      "Trainable params: 198,000\n",
      "Non-trainable params: 0\n",
      "----------------------------------------------------------------\n",
      "Input size (MB): 0.62\n",
      "Forward/backward pass size (MB): 0.84\n",
      "Params size (MB): 0.76\n",
      "Estimated Total Size (MB): 2.22\n",
      "----------------------------------------------------------------\n"
     ]
    }
   ],
   "source": [
    "# print model summary\n",
    "from torchsummary import summary\n",
    "\n",
    "summary(encoder, input_size=(2, 10, in_channels, 512), device=\"cpu\")"
   ]
  },
  {
   "cell_type": "code",
   "execution_count": 104,
   "metadata": {},
   "outputs": [
    {
     "name": "stderr",
     "output_type": "stream",
     "text": [
      "100%|██████████| 38/38 [02:01<00:00,  3.19s/it]\n"
     ]
    }
   ],
   "source": [
    "import os\n",
    "import random\n",
    "\n",
    "import matplotlib.pyplot as plt\n",
    "import numpy as np\n",
    "from tqdm import tqdm\n",
    "\n",
    "from PIL import Image\n",
    "\n",
    "IN = \"/Volumes/Extreme_SSD/MegaDepth/scenes/\"\n",
    "OUT = \"/Volumes/Extreme_SSD/MegaDepth/overview/\"\n",
    "\n",
    "if not os.path.exists(OUT):\n",
    "    os.makedirs(OUT)\n",
    "\n",
    "def plot_random_images(root_dir, output_dir, n_images=25):\n",
    "    \"\"\"Plot n_images random images from the root_dir and save the plot to output_dir.\n",
    "\n",
    "    Args:\n",
    "        root_dir (str): Path to the root directory containing the images.\n",
    "        output_dir (str): Path to the output directory where the plot should be saved.\n",
    "        n_images (int, optional): Number of images to plot. Defaults to 25.\n",
    "    \"\"\"    \n",
    "    # get all folders in root_dir\n",
    "    scenes = [f for f in os.listdir(root_dir) if os.path.isdir(os.path.join(root_dir, f))]\n",
    "    \n",
    "    # get n_images random images from each folder\n",
    "    for scene in tqdm(scenes):\n",
    "        images = []\n",
    "        scene_dir = os.path.join(root_dir, scene, \"images\")\n",
    "        image_files = [f for f in os.listdir(scene_dir) if os.path.isfile(os.path.join(scene_dir, f))]\n",
    "        image_files = random.sample(image_files, n_images)\n",
    "        for image_file in image_files:\n",
    "            image_path = os.path.join(scene_dir, image_file)\n",
    "            images.append(np.array(Image.open(image_path)))\n",
    "        \n",
    "        # plot the images\n",
    "        fig, axes = plt.subplots(5, 5, figsize=(15, 15))\n",
    "        for i, ax in enumerate(axes.flatten()):\n",
    "            ax.imshow(images[i])\n",
    "            ax.axis(\"off\")\n",
    "            ax.set_title(f\"Image {i}\")\n",
    "        plt.tight_layout()\n",
    "\n",
    "        # save the plot\n",
    "        plt.savefig(os.path.join(output_dir, f\"{scene}_images.png\"))\n",
    "        plt.close()\n",
    "\n",
    "# plot the images\n",
    "plot_random_images(IN, OUT)"
   ]
  },
  {
   "cell_type": "code",
   "execution_count": null,
   "metadata": {},
   "outputs": [],
   "source": []
  }
 ],
 "metadata": {
  "kernelspec": {
   "display_name": "emg",
   "language": "python",
   "name": "python3"
  },
  "language_info": {
   "codemirror_mode": {
    "name": "ipython",
    "version": 3
   },
   "file_extension": ".py",
   "mimetype": "text/x-python",
   "name": "python",
   "nbconvert_exporter": "python",
   "pygments_lexer": "ipython3",
   "version": "3.9.16"
  },
  "orig_nbformat": 4
 },
 "nbformat": 4,
 "nbformat_minor": 2
}
