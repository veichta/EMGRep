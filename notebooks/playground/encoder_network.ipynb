{
 "cells": [
  {
   "cell_type": "code",
   "execution_count": 1,
   "metadata": {},
   "outputs": [],
   "source": [
    "import sys\n",
    "sys.path.append('../..')"
   ]
  },
  {
   "cell_type": "code",
   "execution_count": 2,
   "metadata": {},
   "outputs": [],
   "source": [
    "import logging\n",
    "import numpy as np\n",
    "\n",
    "import torch\n",
    "from emgrep.datasets.EMGRepDataloader import EMGRepDataloader"
   ]
  },
  {
   "cell_type": "code",
   "execution_count": 3,
   "metadata": {},
   "outputs": [],
   "source": [
    "logging.basicConfig(level=logging.INFO)"
   ]
  },
  {
   "cell_type": "code",
   "execution_count": 4,
   "metadata": {},
   "outputs": [],
   "source": [
    "data_selection = [(subject, day, time) for subject in [1, 2] for day in [1, 2] for time in [1, 2]]\n",
    "\n",
    "emgrep_ds = EMGRepDataloader(\n",
    "    data_path='../../data/01_raw/',\n",
    "    train_data=data_selection,\n",
    "    positive_mode='subject',\n",
    ")"
   ]
  },
  {
   "cell_type": "code",
   "execution_count": 5,
   "metadata": {},
   "outputs": [
    {
     "name": "stderr",
     "output_type": "stream",
     "text": [
      "INFO:root:Loading train dataset...\n",
      "100%|██████████| 8/8 [00:12<00:00,  1.59s/it]\n"
     ]
    }
   ],
   "source": [
    "emgrep_dl, _, _ = emgrep_ds.get_dataloaders()"
   ]
  },
  {
   "cell_type": "code",
   "execution_count": 6,
   "metadata": {},
   "outputs": [
    {
     "data": {
      "text/plain": [
       "3400"
      ]
     },
     "execution_count": 6,
     "metadata": {},
     "output_type": "execute_result"
    }
   ],
   "source": [
    "len(emgrep_dl)"
   ]
  },
  {
   "cell_type": "code",
   "execution_count": 7,
   "metadata": {},
   "outputs": [],
   "source": [
    "batch = next(iter(emgrep_dl))"
   ]
  },
  {
   "cell_type": "code",
   "execution_count": 8,
   "metadata": {},
   "outputs": [],
   "source": [
    "x, y = batch[0], batch[1]"
   ]
  },
  {
   "cell_type": "code",
   "execution_count": 9,
   "metadata": {},
   "outputs": [
    {
     "data": {
      "text/plain": [
       "(torch.Size([1, 2, 10, 300, 16]), torch.Size([1, 2, 10, 300, 1]))"
      ]
     },
     "execution_count": 9,
     "metadata": {},
     "output_type": "execute_result"
    }
   ],
   "source": [
    "x.shape, y.shape"
   ]
  },
  {
   "cell_type": "code",
   "execution_count": 10,
   "metadata": {},
   "outputs": [],
   "source": [
    "# simple cnn encoder network which takes in a sequence of blocks and outputs a single vector \n",
    "# containing the encoded representation of the sequence\n",
    "\n",
    "# all blocks of size N x 512 x F or smaller should be mapped to a single vector of size N x 1 x H\n",
    "# where H is the hidden size of the encoder network\n",
    "\n",
    "from torch import nn\n",
    "\n",
    "class EncoderNetwork(nn.Module):\n",
    "    def __init__(self, in_channels, out_channels):\n",
    "        super().__init__()\n",
    "\n",
    "        # Compute the highest power of 2 less than or equal to out_channels\n",
    "        max_power = int(np.log(out_channels) / np.log(2))\n",
    "        result = [in_channels] + [2**f for f in range(5, max_power + 1)]\n",
    "\n",
    "        self.convs = nn.ModuleList([\n",
    "            block\n",
    "            for in_channels, out_channels in zip(result[:-1], result[1:])\n",
    "            for block in [self.block(in_channels, in_channels), self.block(in_channels, out_channels)]\n",
    "        ])\n",
    "\n",
    "        self.output_conv = nn.AdaptiveAvgPool1d(1)\n",
    "\n",
    "    def block(self, in_channels, out_channels):\n",
    "        return nn.Sequential(\n",
    "            nn.Conv1d(in_channels, out_channels, kernel_size=3, padding=1),\n",
    "            nn.ReLU(),\n",
    "            nn.BatchNorm1d(out_channels),\n",
    "            nn.MaxPool1d(kernel_size=2, padding=1),\n",
    "         )\n",
    "\n",
    "    def forward(self, x):\n",
    "\n",
    "        BS, K, NB, L, C = x.shape\n",
    "        # x is of shape N x 2 x num_blocks x F x block_len\n",
    "        # reshape to N * 2 * num_blocks x F x block_len\n",
    "        logging.info(f\"Input:   {x.shape}\")\n",
    "        x = x.reshape(-1, C, L)\n",
    "        logging.info(f\"Reshape: {x.shape}\")\n",
    "\n",
    "        for i, conv in enumerate(self.convs):\n",
    "            x = conv(x)\n",
    "            logging.info(f\"Conv {i}:  {x.shape}\")\n",
    "\n",
    "        x = self.output_conv(x)\n",
    "        logging.info(f\"Out:     {x.shape}\")\n",
    "\n",
    "        # reshape to have shape N x 2 x num_blocks x H\n",
    "        x = x.reshape(BS, K, NB, -1)\n",
    "        logging.info(f\"Reshape: {x.shape}\")\n",
    "\n",
    "\n",
    "        return x"
   ]
  },
  {
   "cell_type": "code",
   "execution_count": 69,
   "metadata": {},
   "outputs": [
    {
     "name": "stderr",
     "output_type": "stream",
     "text": [
      "INFO:root:Number of trainable parameters: 0.198 M\n"
     ]
    }
   ],
   "source": [
    "in_channels = 16\n",
    "hidden_dim = 256\n",
    "\n",
    "encoder = EncoderNetwork(in_channels, hidden_dim)\n",
    "\n",
    "n_params = sum(p.numel() for p in encoder.parameters() if p.requires_grad)\n",
    "logging.info(f\"Number of trainable parameters: {n_params / 1e6} M\")"
   ]
  },
  {
   "cell_type": "code",
   "execution_count": 70,
   "metadata": {},
   "outputs": [],
   "source": [
    "random_input = torch.randn(3, 2, 10, 512, in_channels)\n",
    "features = encoder(random_input)"
   ]
  },
  {
   "cell_type": "code",
   "execution_count": 71,
   "metadata": {},
   "outputs": [],
   "source": [
    "random_input = torch.randn(3, 2, 10, 300, in_channels)\n",
    "features = encoder(random_input)"
   ]
  },
  {
   "cell_type": "code",
   "execution_count": 72,
   "metadata": {},
   "outputs": [],
   "source": [
    "# Refactored version of the encoder\n",
    "import math\n",
    "\n",
    "import torch.nn as nn\n",
    "\n",
    "class CPCEncoder(nn.Module):\n",
    "    \"\"\"Encoder network for CPC.\"\"\"\n",
    "\n",
    "    def __init__(self, in_channels: int, hidden_dim: int):\n",
    "        \"\"\"Encoder network for encoding a sequence of blocks into a single vector.\n",
    "\n",
    "        Args:\n",
    "            in_channels (int): Number of input channels.\n",
    "            hidden_dim (int): Feature dimension of the output vector for each block. Will be\n",
    "            rounded to the next power of 2.\n",
    "        \"\"\"\n",
    "        super().__init__()\n",
    "\n",
    "        max_power = int(math.log(hidden_dim, 2))\n",
    "        result = [in_channels] + [2**f for f in range(5, max_power + 1)]\n",
    "\n",
    "        self.convs = nn.Sequential(\n",
    "            *[\n",
    "                nn.Sequential(\n",
    "                    nn.Conv1d(in_channels, in_channels, kernel_size=3, padding=1),\n",
    "                    nn.ReLU(),\n",
    "                    nn.BatchNorm1d(in_channels),\n",
    "                    nn.MaxPool1d(kernel_size=2, padding=1),\n",
    "                    nn.Conv1d(in_channels, out_channels, kernel_size=3, padding=1),\n",
    "                    nn.ReLU(),\n",
    "                    nn.BatchNorm1d(out_channels),\n",
    "                    nn.MaxPool1d(kernel_size=2, padding=1),\n",
    "                )\n",
    "                for in_channels, out_channels in zip(result[:-1], result[1:])\n",
    "            ]\n",
    "        )\n",
    "\n",
    "        # output_conv is used to map the time dimension to a single value\n",
    "        # -> each block will be mapped to a feature with dimension hidden_dim\n",
    "        self.output_conv = nn.AdaptiveAvgPool1d(1)\n",
    "\n",
    "\n",
    "    def forward(self, x):\n",
    "        \"\"\"Forward pass.\n",
    "\n",
    "        Args:\n",
    "            x (torch.Tensor): Input tensor of shape (N, K, num_blocks, block_len, F).\n",
    "        \"\"\"\n",
    "        N, K, num_blocks, block_len, F = x.shape\n",
    "        x = x.view(N * K * num_blocks, F, block_len)\n",
    "\n",
    "        x = self.convs(x)\n",
    "        x = self.output_conv(x)\n",
    "\n",
    "        x = x.view(N, K, num_blocks, -1)\n",
    "\n",
    "        return x\n"
   ]
  },
  {
   "cell_type": "code",
   "execution_count": 73,
   "metadata": {},
   "outputs": [
    {
     "name": "stdout",
     "output_type": "stream",
     "text": [
      "Number of trainable parameters: 0.198 M\n"
     ]
    }
   ],
   "source": [
    "encoder = CPCEncoder(in_channels, hidden_dim)\n",
    "\n",
    "n_params = sum(p.numel() for p in encoder.parameters() if p.requires_grad)\n",
    "\n",
    "print(f\"Number of trainable parameters: {n_params / 1e6:.3f} M\")"
   ]
  },
  {
   "cell_type": "code",
   "execution_count": 74,
   "metadata": {},
   "outputs": [
    {
     "data": {
      "text/plain": [
       "torch.Size([3, 2, 10, 256])"
      ]
     },
     "execution_count": 74,
     "metadata": {},
     "output_type": "execute_result"
    }
   ],
   "source": [
    "random_input = torch.randn(3, 2, 10, 300, in_channels)\n",
    "\n",
    "out = encoder(random_input)\n",
    "\n",
    "out.shape"
   ]
  },
  {
   "cell_type": "code",
   "execution_count": 75,
   "metadata": {},
   "outputs": [
    {
     "name": "stdout",
     "output_type": "stream",
     "text": [
      "----------------------------------------------------------------\n",
      "        Layer (type)               Output Shape         Param #\n",
      "================================================================\n",
      "            Conv1d-1              [-1, 16, 300]             784\n",
      "              ReLU-2              [-1, 16, 300]               0\n",
      "       BatchNorm1d-3              [-1, 16, 300]              32\n",
      "         MaxPool1d-4              [-1, 16, 151]               0\n",
      "            Conv1d-5              [-1, 32, 151]           1,568\n",
      "              ReLU-6              [-1, 32, 151]               0\n",
      "       BatchNorm1d-7              [-1, 32, 151]              64\n",
      "         MaxPool1d-8               [-1, 32, 76]               0\n",
      "            Conv1d-9               [-1, 32, 76]           3,104\n",
      "             ReLU-10               [-1, 32, 76]               0\n",
      "      BatchNorm1d-11               [-1, 32, 76]              64\n",
      "        MaxPool1d-12               [-1, 32, 39]               0\n",
      "           Conv1d-13               [-1, 64, 39]           6,208\n",
      "             ReLU-14               [-1, 64, 39]               0\n",
      "      BatchNorm1d-15               [-1, 64, 39]             128\n",
      "        MaxPool1d-16               [-1, 64, 20]               0\n",
      "           Conv1d-17               [-1, 64, 20]          12,352\n",
      "             ReLU-18               [-1, 64, 20]               0\n",
      "      BatchNorm1d-19               [-1, 64, 20]             128\n",
      "        MaxPool1d-20               [-1, 64, 11]               0\n",
      "           Conv1d-21              [-1, 128, 11]          24,704\n",
      "             ReLU-22              [-1, 128, 11]               0\n",
      "      BatchNorm1d-23              [-1, 128, 11]             256\n",
      "        MaxPool1d-24               [-1, 128, 6]               0\n",
      "           Conv1d-25               [-1, 128, 6]          49,280\n",
      "             ReLU-26               [-1, 128, 6]               0\n",
      "      BatchNorm1d-27               [-1, 128, 6]             256\n",
      "        MaxPool1d-28               [-1, 128, 4]               0\n",
      "           Conv1d-29               [-1, 256, 4]          98,560\n",
      "             ReLU-30               [-1, 256, 4]               0\n",
      "      BatchNorm1d-31               [-1, 256, 4]             512\n",
      "        MaxPool1d-32               [-1, 256, 3]               0\n",
      "AdaptiveAvgPool1d-33               [-1, 256, 1]               0\n",
      "================================================================\n",
      "Total params: 198,000\n",
      "Trainable params: 198,000\n",
      "Non-trainable params: 0\n",
      "----------------------------------------------------------------\n",
      "Input size (MB): 0.37\n",
      "Forward/backward pass size (MB): 0.52\n",
      "Params size (MB): 0.76\n",
      "Estimated Total Size (MB): 1.64\n",
      "----------------------------------------------------------------\n"
     ]
    }
   ],
   "source": [
    "# print model summary\n",
    "from torchsummary import summary\n",
    "\n",
    "summary(encoder, input_size=(2, 10, 300, in_channels), device=\"cpu\")"
   ]
  },
  {
   "cell_type": "code",
   "execution_count": 76,
   "metadata": {},
   "outputs": [
    {
     "name": "stdout",
     "output_type": "stream",
     "text": [
      "Number of trainable parameters: 0.790 M\n"
     ]
    }
   ],
   "source": [
    "class CPCAR(nn.Module):\n",
    "    \"\"\"Autoregressive model for CPC.\"\"\"\n",
    "\n",
    "    def __init__(self, dimEncoded: int, dimOutput: int, numLayers: int):\n",
    "        \"\"\"Initialize the autoregressive model.\n",
    "\n",
    "        Args:\n",
    "            dimEncoded (int): Encoded dimension.\n",
    "            dimOutput (int): Output dimension.\n",
    "            numLayers (int): Number of layers.\n",
    "        \"\"\"\n",
    "        super(CPCAR, self).__init__()\n",
    "\n",
    "        self.gru = nn.GRU(dimEncoded, dimOutput, num_layers=numLayers, batch_first=True)\n",
    "\n",
    "    def forward(self, x):\n",
    "        \"\"\"Encode a batch of sequences.\"\"\"\n",
    "        N, K, num_blocks, H = x.shape\n",
    "        x = x.view(N * K, num_blocks, H)\n",
    "        x, _ = self.gru(x)  # discard final hidden state\n",
    "\n",
    "        x = x.view(N, K, num_blocks, -1)\n",
    "        return x\n",
    "    \n",
    "\n",
    "ar = CPCAR(hidden_dim, hidden_dim, 2)\n",
    "\n",
    "n_params = sum(p.numel() for p in ar.parameters() if p.requires_grad)\n",
    "\n",
    "print(f\"Number of trainable parameters: {n_params / 1e6:.3f} M\")"
   ]
  },
  {
   "cell_type": "code",
   "execution_count": 77,
   "metadata": {},
   "outputs": [
    {
     "data": {
      "text/plain": [
       "torch.Size([3, 2, 10, 256])"
      ]
     },
     "execution_count": 77,
     "metadata": {},
     "output_type": "execute_result"
    }
   ],
   "source": [
    "sample = torch.randn(3, 2, 10, hidden_dim)\n",
    "\n",
    "out = ar(sample)\n",
    "\n",
    "out.shape"
   ]
  },
  {
   "cell_type": "code",
   "execution_count": 78,
   "metadata": {},
   "outputs": [
    {
     "name": "stdout",
     "output_type": "stream",
     "text": [
      "Number of trainable parameters: 0.988 M\n"
     ]
    }
   ],
   "source": [
    "class CPCModel(nn.Module):\n",
    "    \"\"\"CPC model.\"\"\"\n",
    "\n",
    "    def __init__(self, encoder: CPCEncoder, ar: CPCAR):\n",
    "        \"\"\"Initialize the CPC model.\n",
    "\n",
    "        Args:\n",
    "            encoder (_type_): _description_\n",
    "            ar (_type_): _description_\n",
    "        \"\"\"\n",
    "        super(CPCModel, self).__init__()\n",
    "        self.gEnc = encoder\n",
    "        self.gAR = ar\n",
    "        # self.gEnc.double()\n",
    "        # self.gAR.double()\n",
    "\n",
    "    def forward(self, batch):\n",
    "        \"\"\"Forward pass.\"\"\"\n",
    "        z = self.gEnc(batch)\n",
    "        c = self.gAR(z)\n",
    "        return z, c\n",
    "    \n",
    "model = CPCModel(encoder, ar)\n",
    "\n",
    "n_params = sum(p.numel() for p in model.parameters() if p.requires_grad)\n",
    "\n",
    "print(f\"Number of trainable parameters: {n_params / 1e6:.3f} M\")"
   ]
  },
  {
   "cell_type": "code",
   "execution_count": 80,
   "metadata": {},
   "outputs": [
    {
     "data": {
      "text/plain": [
       "(torch.Size([3, 2, 10, 256]), torch.Size([3, 2, 10, 256]))"
      ]
     },
     "execution_count": 80,
     "metadata": {},
     "output_type": "execute_result"
    }
   ],
   "source": [
    "sample = torch.randn(3, 2, 10, 300, in_channels)\n",
    "\n",
    "c = encoder(sample)\n",
    "\n",
    "z = ar(c)\n",
    "\n",
    "c.shape, z.shape"
   ]
  },
  {
   "cell_type": "code",
   "execution_count": 81,
   "metadata": {},
   "outputs": [
    {
     "data": {
      "text/plain": [
       "(torch.Size([3, 2, 10, 256]), torch.Size([3, 2, 10, 256]))"
      ]
     },
     "execution_count": 81,
     "metadata": {},
     "output_type": "execute_result"
    }
   ],
   "source": [
    "z, c = model(sample)\n",
    "\n",
    "z.shape, c.shape"
   ]
  },
  {
   "cell_type": "code",
   "execution_count": 82,
   "metadata": {},
   "outputs": [
    {
     "name": "stdout",
     "output_type": "stream",
     "text": [
      "----------------------------------------------------------------\n",
      "        Layer (type)               Output Shape         Param #\n",
      "================================================================\n",
      "            Conv1d-1              [-1, 16, 300]             784\n",
      "              ReLU-2              [-1, 16, 300]               0\n",
      "       BatchNorm1d-3              [-1, 16, 300]              32\n",
      "         MaxPool1d-4              [-1, 16, 151]               0\n",
      "            Conv1d-5              [-1, 32, 151]           1,568\n",
      "              ReLU-6              [-1, 32, 151]               0\n",
      "       BatchNorm1d-7              [-1, 32, 151]              64\n",
      "         MaxPool1d-8               [-1, 32, 76]               0\n",
      "            Conv1d-9               [-1, 32, 76]           3,104\n",
      "             ReLU-10               [-1, 32, 76]               0\n",
      "      BatchNorm1d-11               [-1, 32, 76]              64\n",
      "        MaxPool1d-12               [-1, 32, 39]               0\n",
      "           Conv1d-13               [-1, 64, 39]           6,208\n",
      "             ReLU-14               [-1, 64, 39]               0\n",
      "      BatchNorm1d-15               [-1, 64, 39]             128\n",
      "        MaxPool1d-16               [-1, 64, 20]               0\n",
      "           Conv1d-17               [-1, 64, 20]          12,352\n",
      "             ReLU-18               [-1, 64, 20]               0\n",
      "      BatchNorm1d-19               [-1, 64, 20]             128\n",
      "        MaxPool1d-20               [-1, 64, 11]               0\n",
      "           Conv1d-21              [-1, 128, 11]          24,704\n",
      "             ReLU-22              [-1, 128, 11]               0\n",
      "      BatchNorm1d-23              [-1, 128, 11]             256\n",
      "        MaxPool1d-24               [-1, 128, 6]               0\n",
      "           Conv1d-25               [-1, 128, 6]          49,280\n",
      "             ReLU-26               [-1, 128, 6]               0\n",
      "      BatchNorm1d-27               [-1, 128, 6]             256\n",
      "        MaxPool1d-28               [-1, 128, 4]               0\n",
      "           Conv1d-29               [-1, 256, 4]          98,560\n",
      "             ReLU-30               [-1, 256, 4]               0\n",
      "      BatchNorm1d-31               [-1, 256, 4]             512\n",
      "        MaxPool1d-32               [-1, 256, 3]               0\n",
      "AdaptiveAvgPool1d-33               [-1, 256, 1]               0\n",
      "       CPCEncoder-34           [-1, 2, 10, 256]               0\n",
      "              GRU-35  [[-1, 10, 256], [-1, 4, 256]]               0\n",
      "            CPCAR-36           [-1, 2, 10, 256]               0\n",
      "================================================================\n",
      "Total params: 198,000\n",
      "Trainable params: 198,000\n",
      "Non-trainable params: 0\n",
      "----------------------------------------------------------------\n",
      "Input size (MB): 0.37\n",
      "Forward/backward pass size (MB): 19.41\n",
      "Params size (MB): 0.76\n",
      "Estimated Total Size (MB): 20.53\n",
      "----------------------------------------------------------------\n"
     ]
    }
   ],
   "source": [
    "summary(model, input_size=(2, 10, 300, in_channels), device=\"cpu\")"
   ]
  },
  {
   "cell_type": "code",
   "execution_count": 83,
   "metadata": {},
   "outputs": [
    {
     "name": "stdout",
     "output_type": "stream",
     "text": [
      "Number of trainable parameters: 0.988 M\n"
     ]
    }
   ],
   "source": [
    "from emgrep.models.cpc_model import CPCModel, CPCEncoder, CPCAR\n",
    "\n",
    "encoder = CPCEncoder(in_channels, hidden_dim)\n",
    "ar = CPCAR(hidden_dim, hidden_dim, 2)\n",
    "model = CPCModel(encoder, ar)\n",
    "\n",
    "n_params = sum(p.numel() for p in model.parameters() if p.requires_grad)\n",
    "\n",
    "print(f\"Number of trainable parameters: {n_params / 1e6:.3f} M\")"
   ]
  },
  {
   "cell_type": "code",
   "execution_count": 86,
   "metadata": {},
   "outputs": [
    {
     "name": "stdout",
     "output_type": "stream",
     "text": [
      "sample.shape: torch.Size([3, 2, 10, 300, 16])\n",
      "z.shape:      torch.Size([3, 2, 10, 256])\n",
      "c.shape:      torch.Size([3, 2, 10, 256])\n"
     ]
    }
   ],
   "source": [
    "sample = torch.randn(3, 2, 10, 300, in_channels)\n",
    "\n",
    "z, c = model(sample)\n",
    "\n",
    "print(f\"sample.shape: {sample.shape}\")\n",
    "print(f\"z.shape:      {z.shape}\")\n",
    "print(f\"c.shape:      {c.shape}\")"
   ]
  },
  {
   "cell_type": "code",
   "execution_count": null,
   "metadata": {},
   "outputs": [],
   "source": []
  }
 ],
 "metadata": {
  "kernelspec": {
   "display_name": "emg",
   "language": "python",
   "name": "python3"
  },
  "language_info": {
   "codemirror_mode": {
    "name": "ipython",
    "version": 3
   },
   "file_extension": ".py",
   "mimetype": "text/x-python",
   "name": "python",
   "nbconvert_exporter": "python",
   "pygments_lexer": "ipython3",
   "version": "3.9.16"
  },
  "orig_nbformat": 4
 },
 "nbformat": 4,
 "nbformat_minor": 2
}
