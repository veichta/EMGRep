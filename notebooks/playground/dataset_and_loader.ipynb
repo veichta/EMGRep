{
   "cells": [
      {
         "cell_type": "code",
         "execution_count": null,
         "metadata": {},
         "outputs": [],
         "source": [
            "import sys\n",
            "\n",
            "sys.path.append(\"../..\")"
         ]
      },
      {
         "cell_type": "code",
         "execution_count": null,
         "metadata": {},
         "outputs": [],
         "source": [
            "import matplotlib.pyplot as plt\n",
            "\n",
            "from emgrep.datasets.EMGRepDataloader import EMGRepDataloader"
         ]
      },
      {
         "cell_type": "code",
         "execution_count": null,
         "metadata": {},
         "outputs": [],
         "source": [
            "data_selection = [(subject, day, time) for subject in [1] for day in [1] for time in [1, 2]]\n",
            "\n",
            "emgrepdl = EMGRepDataloader(\n",
            "    data_path=\"../../data/01_raw/\",\n",
            "    data_selection=data_selection,\n",
            "    positive_mode=\"subject\",\n",
            ")"
         ]
      },
      {
         "cell_type": "code",
         "execution_count": null,
         "metadata": {},
         "outputs": [],
         "source": [
            "data_loader = emgrepdl.get_dataloader()"
         ]
      },
      {
         "cell_type": "code",
         "execution_count": null,
         "metadata": {},
         "outputs": [],
         "source": [
            "len(data_loader)"
         ]
      },
      {
         "cell_type": "code",
         "execution_count": null,
         "metadata": {},
         "outputs": [],
         "source": [
            "emg, stimulus, info = next(iter(data_loader))"
         ]
      },
      {
         "cell_type": "code",
         "execution_count": null,
         "metadata": {},
         "outputs": [],
         "source": [
            "def plot_samples(signals, labels, title, block_size=300):\n",
            "    signals = signals.reshape(-1, signals.shape[-1])\n",
            "    labels = labels.reshape(-1)\n",
            "\n",
            "    fig, ax = plt.subplots(1, 1, figsize=(10, 5))\n",
            "    # normalize the signals to [0, 1]\n",
            "    signals = (signals - signals.min()) / (signals.max() - signals.min())\n",
            "\n",
            "    ax.plot(signals)\n",
            "    ax.plot(labels, color=\"red\")    \n",
            "    \n",
            "    # plot the block boundaries\n",
            "    for i in range(1, len(signals) // block_size):\n",
            "        ax.axvline(x=i * block_size, color=\"black\", linestyle=\"--\")\n",
            "    \n",
            "    ax.set_xlabel(\"Time\")\n",
            "    ax.set_ylabel(\"Amplitude\")\n",
            "\n",
            "    ax.set_xticklabels([f\"{i/2000}s\" for i in ax.get_xticks()])\n",
            "\n",
            "    ax.set_title(title)\n",
            "    plt.show()"
         ]
      },
      {
         "cell_type": "code",
         "execution_count": null,
         "metadata": {},
         "outputs": [],
         "source": [
            "x = emg[0][0]\n",
            "y = stimulus[0][0]\n",
            "plot_samples(x, y, \"Anchor\")"
         ]
      },
      {
         "cell_type": "code",
         "execution_count": null,
         "metadata": {},
         "outputs": [],
         "source": [
            "px = emg[0][1]\n",
            "py = stimulus[0][1]\n",
            "plot_samples(px, py, \"Positive\")"
         ]
      },
      {
         "cell_type": "code",
         "execution_count": null,
         "metadata": {},
         "outputs": [],
         "source": [
            "emg.shape"
         ]
      },
      {
         "cell_type": "code",
         "execution_count": null,
         "metadata": {},
         "outputs": [],
         "source": []
      }
   ],
   "metadata": {
      "kernelspec": {
         "display_name": "aicpmlr",
         "language": "python",
         "name": "python3"
      },
      "language_info": {
         "codemirror_mode": {
            "name": "ipython",
            "version": 3
         },
         "file_extension": ".py",
         "mimetype": "text/x-python",
         "name": "python",
         "nbconvert_exporter": "python",
         "pygments_lexer": "ipython3",
         "version": "3.9.16"
      },
      "orig_nbformat": 4
   },
   "nbformat": 4,
   "nbformat_minor": 2
}
